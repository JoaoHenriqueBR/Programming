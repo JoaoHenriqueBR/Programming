{
 "cells": [
  {
   "cell_type": "markdown",
   "id": "73c54759",
   "metadata": {},
   "source": [
    "## List Compreension\n",
    "\n",
    "Com base em um programa de calcular pares no Python.\n",
    "\n",
    "### Filtro Versão 1"
   ]
  },
  {
   "cell_type": "code",
   "execution_count": 7,
   "id": "befa9891",
   "metadata": {},
   "outputs": [
    {
     "data": {
      "text/plain": [
       "[30, 2, 34]"
      ]
     },
     "execution_count": 7,
     "metadata": {},
     "output_type": "execute_result"
    }
   ],
   "source": [
    "numeros = [1, 30, 21, 2, 9, 65, 34]\n",
    "pares = []\n",
    "\n",
    "for numero in numeros:\n",
    "    if numero % 2 == 0:\n",
    "        pares.append(numero)\n",
    "\n",
    "pares"
   ]
  },
  {
   "cell_type": "markdown",
   "id": "27022bb7",
   "metadata": {},
   "source": [
    "### Filtro Versão 2\n",
    "\n",
    "- Primeira parte: Retorno `numero`\n",
    "- Segunda parte: iteração `for numero in numeros`\n",
    "- Terceira parte: filtro `if numero % 2 == 0`"
   ]
  },
  {
   "cell_type": "code",
   "execution_count": 8,
   "id": "d00d64a9",
   "metadata": {},
   "outputs": [
    {
     "data": {
      "text/plain": [
       "[30, 2, 34]"
      ]
     },
     "execution_count": 8,
     "metadata": {},
     "output_type": "execute_result"
    }
   ],
   "source": [
    "numeros = [1, 30, 21, 2, 9, 65, 34]\n",
    "pares = [numero for numero in numeros if numero % 2 == 0]\n",
    "\n",
    "\n",
    "pares"
   ]
  },
  {
   "cell_type": "markdown",
   "id": "5e0b26d9",
   "metadata": {},
   "source": [
    "# Métodos\n",
    "\n",
    "Diferentes formas de trabalhar com o conteúdo das listas\n",
    "\n",
    "### [].append\n",
    "\n",
    "- Adiciona um item ao final"
   ]
  },
  {
   "cell_type": "code",
   "execution_count": 9,
   "id": "e97b4c9e",
   "metadata": {},
   "outputs": [
    {
     "data": {
      "text/plain": [
       "[1, 'Python', [40, 30, 20]]"
      ]
     },
     "execution_count": 9,
     "metadata": {},
     "output_type": "execute_result"
    }
   ],
   "source": [
    "lista = []\n",
    "\n",
    "lista.append(1)\n",
    "lista.append('Python')\n",
    "lista.append([40, 30, 20])\n",
    "\n",
    "lista"
   ]
  },
  {
   "cell_type": "markdown",
   "id": "66358a67",
   "metadata": {},
   "source": [
    "### [].clear\n",
    "\n",
    "- Limpa a lista"
   ]
  },
  {
   "cell_type": "code",
   "execution_count": 10,
   "id": "8dc13ba9",
   "metadata": {},
   "outputs": [
    {
     "data": {
      "text/plain": [
       "[]"
      ]
     },
     "execution_count": 10,
     "metadata": {},
     "output_type": "execute_result"
    }
   ],
   "source": [
    "lista.clear()\n",
    "\n",
    "lista"
   ]
  },
  {
   "cell_type": "markdown",
   "id": "70e2504f",
   "metadata": {},
   "source": [
    "### [].copy\n",
    "\n",
    "- Cria uma cópia da lista\n",
    "- Qualquer alteração na cópia não afetará a original."
   ]
  },
  {
   "cell_type": "code",
   "execution_count": 14,
   "id": "16762b3b",
   "metadata": {},
   "outputs": [
    {
     "name": "stdout",
     "output_type": "stream",
     "text": [
      "ID Lista 1: 140612956231808\n",
      "ID Lista 2: 140612956075712\n"
     ]
    }
   ],
   "source": [
    "lista = [1, 'Python', [40, 30, 20]]\n",
    "l2 = lista.copy()\n",
    "\n",
    "print(f'ID Lista 1: {id(lista)}')\n",
    "\n",
    "print(f'ID Lista 2: {id(l2)}')"
   ]
  },
  {
   "cell_type": "markdown",
   "id": "6a4fa6b8",
   "metadata": {},
   "source": [
    "### [].count\n",
    "\n",
    "- Quantidade de itens em uma lista"
   ]
  },
  {
   "cell_type": "code",
   "execution_count": null,
   "id": "be14d8c6",
   "metadata": {},
   "outputs": [
    {
     "name": "stdout",
     "output_type": "stream",
     "text": [
      "1\n",
      "2\n",
      "1\n"
     ]
    }
   ],
   "source": [
    "cores = [\"vermelho\", \"azul\", \"verde\", \"azul\"]\n",
    "\n",
    "print(cores.count(\"vermelho\"))  \n",
    "print(cores.count(\"azul\"))  \n",
    "print(cores.count(\"verde\")) "
   ]
  },
  {
   "cell_type": "markdown",
   "id": "75fc0c2a",
   "metadata": {},
   "source": [
    "### [].extend\n",
    "\n",
    "- Adiciona mais de um elemento em uma única vez."
   ]
  },
  {
   "cell_type": "code",
   "execution_count": 16,
   "id": "e7b59483",
   "metadata": {},
   "outputs": [
    {
     "name": "stdout",
     "output_type": "stream",
     "text": [
      "['python', 'js', 'c']\n",
      "['python', 'js', 'c', 'java', 'csharp']\n"
     ]
    }
   ],
   "source": [
    "linguagens = [\"python\", \"js\", \"c\"]\n",
    "\n",
    "print(linguagens) \n",
    "\n",
    "linguagens.extend([\"java\", \"csharp\"])\n",
    "\n",
    "print(linguagens) "
   ]
  },
  {
   "cell_type": "markdown",
   "id": "82c19182",
   "metadata": {},
   "source": [
    "### [].index\n",
    "\n",
    "- Encontra a primeira ocorrência de um objeto."
   ]
  },
  {
   "cell_type": "code",
   "execution_count": 17,
   "id": "c3068bd1",
   "metadata": {},
   "outputs": [
    {
     "name": "stdout",
     "output_type": "stream",
     "text": [
      "3\n",
      "0\n"
     ]
    }
   ],
   "source": [
    "linguagens = [\"python\", \"js\", \"c\", \"java\", \"csharp\"]\n",
    "\n",
    "print(linguagens.index(\"java\")) \n",
    "print(linguagens.index(\"python\")) "
   ]
  },
  {
   "cell_type": "markdown",
   "id": "ebacd60a",
   "metadata": {},
   "source": [
    "### [].pop\n",
    "\n",
    "> Remove e retorna o elemento deletado.\n",
    "\n",
    "- Remove o ultimo elemento da lista `()`\n",
    "- Remove o elemento X `(x)`, onde X = Posição do item."
   ]
  },
  {
   "cell_type": "code",
   "execution_count": 19,
   "id": "eb5a6a72",
   "metadata": {},
   "outputs": [
    {
     "name": "stdout",
     "output_type": "stream",
     "text": [
      "csharp\n",
      "java\n",
      "c\n",
      "python\n"
     ]
    },
    {
     "data": {
      "text/plain": [
       "['js']"
      ]
     },
     "execution_count": 19,
     "metadata": {},
     "output_type": "execute_result"
    }
   ],
   "source": [
    "linguagens = [\"python\", \"js\", \"c\", \"java\", \"csharp\"]\n",
    "\n",
    "print(linguagens.pop())  # csharp\n",
    "print(linguagens.pop())  # java\n",
    "print(linguagens.pop())  # c\n",
    "print(linguagens.pop(0))  # python\n",
    "\n",
    "linguagens"
   ]
  },
  {
   "cell_type": "markdown",
   "id": "fc4715cb",
   "metadata": {},
   "source": [
    "### [].remove\n",
    "\n",
    "- Remove o objeto especificado."
   ]
  },
  {
   "cell_type": "code",
   "execution_count": 20,
   "id": "610f5c27",
   "metadata": {},
   "outputs": [
    {
     "name": "stdout",
     "output_type": "stream",
     "text": [
      "['python', 'js', 'java', 'csharp']\n"
     ]
    }
   ],
   "source": [
    "linguagens = [\"python\", \"js\", \"c\", \"java\", \"csharp\"]\n",
    "\n",
    "linguagens.remove(\"c\")\n",
    "\n",
    "print(linguagens)"
   ]
  },
  {
   "cell_type": "markdown",
   "id": "248128d7",
   "metadata": {},
   "source": [
    "### [].reverse\n",
    "\n",
    "- Reverte a ordem da lista"
   ]
  },
  {
   "cell_type": "code",
   "execution_count": 21,
   "id": "216b4366",
   "metadata": {},
   "outputs": [
    {
     "name": "stdout",
     "output_type": "stream",
     "text": [
      "['csharp', 'java', 'c', 'js', 'python']\n"
     ]
    }
   ],
   "source": [
    "linguagens = [\"python\", \"js\", \"c\", \"java\", \"csharp\"]\n",
    "\n",
    "linguagens.reverse()\n",
    "\n",
    "print(linguagens)"
   ]
  },
  {
   "cell_type": "markdown",
   "id": "a661d70b",
   "metadata": {},
   "source": [
    "### [].sort\n",
    "\n",
    "- Ordena a lista"
   ]
  },
  {
   "cell_type": "code",
   "execution_count": null,
   "id": "f5f46fe7",
   "metadata": {},
   "outputs": [
    {
     "name": "stdout",
     "output_type": "stream",
     "text": [
      "['c', 'csharp', 'java', 'js', 'python']\n",
      "['python', 'js', 'java', 'csharp', 'c']\n",
      "['c', 'js', 'java', 'python', 'csharp']\n",
      "['python', 'csharp', 'java', 'js', 'c']\n"
     ]
    }
   ],
   "source": [
    "linguagens = [\"python\", \"js\", \"c\", \"java\", \"csharp\"]\n",
    "linguagens.sort()  # Ordem alfabética (Padrão)\n",
    "print(linguagens)\n",
    "\n",
    "linguagens = [\"python\", \"js\", \"c\", \"java\", \"csharp\"]\n",
    "linguagens.sort(reverse=True)  # Ordem alfabética reversa\n",
    "print(linguagens)\n",
    "\n",
    "linguagens = [\"python\", \"js\", \"c\", \"java\", \"csharp\"]\n",
    "linguagens.sort(key=lambda x: len(x))  # Ordem por tamanho crescente (Lambda: Função anonima, para cada argumento executa o len(x))\n",
    "print(linguagens)\n",
    "\n",
    "linguagens = [\"python\", \"js\", \"c\", \"java\", \"csharp\"]\n",
    "linguagens.sort(key=lambda x: len(x), reverse=True)  # Ordem por tamanho decrescente\n",
    "print(linguagens)"
   ]
  },
  {
   "cell_type": "markdown",
   "id": "5f06cbc3",
   "metadata": {},
   "source": [
    "### [].len\n",
    "\n",
    "- Tamanho da lista (Quantidade de itens que compõe um objeto)"
   ]
  },
  {
   "cell_type": "code",
   "execution_count": 24,
   "id": "d428667b",
   "metadata": {},
   "outputs": [
    {
     "data": {
      "text/plain": [
       "5"
      ]
     },
     "execution_count": 24,
     "metadata": {},
     "output_type": "execute_result"
    }
   ],
   "source": [
    "len(linguagens)"
   ]
  },
  {
   "cell_type": "markdown",
   "id": "cd8bf622",
   "metadata": {},
   "source": [
    "### [].sorted()\n",
    "\n",
    "- Função inclusa do Python para ordenar qualquer iterável.\n",
    "- Alternativa ao sort()"
   ]
  },
  {
   "cell_type": "code",
   "execution_count": 25,
   "id": "8cff0e4f",
   "metadata": {},
   "outputs": [
    {
     "name": "stdout",
     "output_type": "stream",
     "text": [
      "['c', 'js', 'java', 'python', 'csharp']\n",
      "['python', 'csharp', 'java', 'js', 'c']\n"
     ]
    }
   ],
   "source": [
    "linguagens = [\"python\", \"js\", \"c\", \"java\", \"csharp\"]\n",
    "\n",
    "print(sorted(linguagens, key=lambda x: len(x))) \n",
    "print(sorted(linguagens, key=lambda x: len(x), reverse=True))  "
   ]
  }
 ],
 "metadata": {
  "kernelspec": {
   "display_name": "Python 3",
   "language": "python",
   "name": "python3"
  },
  "language_info": {
   "codemirror_mode": {
    "name": "ipython",
    "version": 3
   },
   "file_extension": ".py",
   "mimetype": "text/x-python",
   "name": "python",
   "nbconvert_exporter": "python",
   "pygments_lexer": "ipython3",
   "version": "3.13.5"
  }
 },
 "nbformat": 4,
 "nbformat_minor": 5
}
