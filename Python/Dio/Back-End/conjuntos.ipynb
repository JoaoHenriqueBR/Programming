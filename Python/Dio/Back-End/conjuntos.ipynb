{
 "cells": [
  {
   "cell_type": "markdown",
   "id": "32242ca5",
   "metadata": {},
   "source": [
    "# Conjuntos (Sets)\n",
    "\n",
    "Um set é uma coleção que não possui objetos repetidos.\n",
    "\n",
    "Uso:\n",
    "\n",
    "- Representar conjuntos matemáticos\n",
    "- eliminar itens duplicados de um iterável"
   ]
  },
  {
   "cell_type": "code",
   "execution_count": 3,
   "id": "cc16ac99",
   "metadata": {},
   "outputs": [
    {
     "data": {
      "text/plain": [
       "{1, 2, 3, 4}"
      ]
     },
     "execution_count": 3,
     "metadata": {},
     "output_type": "execute_result"
    }
   ],
   "source": [
    "set([1, 2, 3, 1, 3, 4])"
   ]
  },
  {
   "cell_type": "code",
   "execution_count": 4,
   "id": "d2096f0b",
   "metadata": {},
   "outputs": [
    {
     "data": {
      "text/plain": [
       "{'a', 'b', 'c', 'i', 'x'}"
      ]
     },
     "execution_count": 4,
     "metadata": {},
     "output_type": "execute_result"
    }
   ],
   "source": [
    "set(\"abacaxi\")"
   ]
  },
  {
   "cell_type": "code",
   "execution_count": 5,
   "id": "06cf9d78",
   "metadata": {},
   "outputs": [
    {
     "data": {
      "text/plain": [
       "{'celta', 'gol', 'palio'}"
      ]
     },
     "execution_count": 5,
     "metadata": {},
     "output_type": "execute_result"
    }
   ],
   "source": [
    "set(('palio', 'gol', 'celta', 'palio'))"
   ]
  },
  {
   "cell_type": "markdown",
   "id": "b5dde98d",
   "metadata": {},
   "source": [
    "## Acessando os dados\n",
    "\n",
    "- Conjuntos em Python não suportam indexação e nem fatiamento\n",
    "- Para acessar os seus valores é necessário converter o conjunto para lista."
   ]
  },
  {
   "cell_type": "code",
   "execution_count": 7,
   "id": "d978175f",
   "metadata": {},
   "outputs": [
    {
     "name": "stdout",
     "output_type": "stream",
     "text": [
      "[1, 2, 3]\n",
      "1\n"
     ]
    }
   ],
   "source": [
    "numeros = {1, 2, 3, 2} # set de numeros\n",
    "\n",
    "numeros = list(numeros) # Transforma em uma lista\n",
    "\n",
    "print(numeros)\n",
    "print(numeros[0])"
   ]
  },
  {
   "cell_type": "markdown",
   "id": "baddaa92",
   "metadata": {},
   "source": [
    "## Metódos da classe set\n",
    "\n",
    "### {}.union\n",
    "\n",
    "- Une um conjunto com o outro"
   ]
  },
  {
   "cell_type": "code",
   "execution_count": 8,
   "id": "7049feaa",
   "metadata": {},
   "outputs": [
    {
     "data": {
      "text/plain": [
       "{1, 2, 3, 4}"
      ]
     },
     "execution_count": 8,
     "metadata": {},
     "output_type": "execute_result"
    }
   ],
   "source": [
    "a = {1, 2}\n",
    "b = {3, 4}\n",
    "\n",
    "a.union(b)"
   ]
  },
  {
   "cell_type": "markdown",
   "id": "6d2bb683",
   "metadata": {},
   "source": [
    "### {}.intersection\n",
    "\n",
    "- A interseção de um conjunto com o outro (apenas os itens que se encontram nos dois)"
   ]
  },
  {
   "cell_type": "code",
   "execution_count": 4,
   "id": "5fa81e13",
   "metadata": {},
   "outputs": [
    {
     "data": {
      "text/plain": [
       "{2, 3}"
      ]
     },
     "execution_count": 4,
     "metadata": {},
     "output_type": "execute_result"
    }
   ],
   "source": [
    "a = {1, 2, 3}\n",
    "b = {2, 3, 4}\n",
    "\n",
    "a.intersection(b)"
   ]
  },
  {
   "cell_type": "markdown",
   "id": "0cd07f0c",
   "metadata": {},
   "source": [
    "### {}.difference\n",
    "\n",
    "- A diferença de um conjunto para o outro (os itens que não se encontram no conjunto original)"
   ]
  },
  {
   "cell_type": "code",
   "execution_count": 5,
   "id": "e9220945",
   "metadata": {},
   "outputs": [
    {
     "data": {
      "text/plain": [
       "{1}"
      ]
     },
     "execution_count": 5,
     "metadata": {},
     "output_type": "execute_result"
    }
   ],
   "source": [
    "a.difference(b)"
   ]
  },
  {
   "cell_type": "code",
   "execution_count": 6,
   "id": "4821e60f",
   "metadata": {},
   "outputs": [
    {
     "data": {
      "text/plain": [
       "{4}"
      ]
     },
     "execution_count": 6,
     "metadata": {},
     "output_type": "execute_result"
    }
   ],
   "source": [
    "b.difference(a)"
   ]
  },
  {
   "cell_type": "markdown",
   "id": "6973e9ac",
   "metadata": {},
   "source": [
    "### {}.symmetric_difference\n",
    "\n",
    "- Todos os elementos que **não** estão na intersecção"
   ]
  },
  {
   "cell_type": "code",
   "execution_count": 7,
   "id": "70b3d295",
   "metadata": {},
   "outputs": [
    {
     "data": {
      "text/plain": [
       "{1, 4}"
      ]
     },
     "execution_count": 7,
     "metadata": {},
     "output_type": "execute_result"
    }
   ],
   "source": [
    "a.symmetric_difference(b)"
   ]
  },
  {
   "cell_type": "markdown",
   "id": "7013c779",
   "metadata": {},
   "source": [
    "### {}.issubset\n",
    "\n",
    "- Conjunto é subconjunto de outro\n",
    "- Todos elementos de A estão dentro de B?: Verdadeiro\n",
    "  - Ao contrário: Falso"
   ]
  },
  {
   "cell_type": "code",
   "execution_count": 8,
   "id": "aee36810",
   "metadata": {},
   "outputs": [
    {
     "data": {
      "text/plain": [
       "True"
      ]
     },
     "execution_count": 8,
     "metadata": {},
     "output_type": "execute_result"
    }
   ],
   "source": [
    "a = {1, 2, 3}\n",
    "b = {4, 1, 2, 5, 6, 3}\n",
    "\n",
    "a.issubset(b)"
   ]
  },
  {
   "cell_type": "code",
   "execution_count": 9,
   "id": "b5781ef6",
   "metadata": {},
   "outputs": [
    {
     "data": {
      "text/plain": [
       "False"
      ]
     },
     "execution_count": 9,
     "metadata": {},
     "output_type": "execute_result"
    }
   ],
   "source": [
    "b.issubset(a)"
   ]
  },
  {
   "cell_type": "markdown",
   "id": "491b06e8",
   "metadata": {},
   "source": [
    "### {}.issuperset\n",
    "\n",
    "- Contrário do anterior\n",
    "- Conjunto engloba o outro conjunto\n",
    "- Conjunto B possui os elementos de A dentro?: Verdadeiro\n",
    "  - Ao contrário, falso"
   ]
  },
  {
   "cell_type": "code",
   "execution_count": 10,
   "id": "d201c66a",
   "metadata": {},
   "outputs": [
    {
     "data": {
      "text/plain": [
       "False"
      ]
     },
     "execution_count": 10,
     "metadata": {},
     "output_type": "execute_result"
    }
   ],
   "source": [
    "a.issuperset(b)"
   ]
  },
  {
   "cell_type": "code",
   "execution_count": 11,
   "id": "44e306fb",
   "metadata": {},
   "outputs": [
    {
     "data": {
      "text/plain": [
       "True"
      ]
     },
     "execution_count": 11,
     "metadata": {},
     "output_type": "execute_result"
    }
   ],
   "source": [
    "b.issuperset(a)"
   ]
  },
  {
   "cell_type": "markdown",
   "id": "a713dd12",
   "metadata": {},
   "source": [
    "### {}.isdisjoint\n",
    "\n",
    "- Conjunto se associa a algum outro conjunto?\n",
    "- Seus elementos se interseccionam em algum momento?\n",
    "- Se não, ele é disjunto: Verdadeiro\n",
    "  - Ao contrário, falso"
   ]
  },
  {
   "cell_type": "code",
   "execution_count": 12,
   "id": "d37a6bbe",
   "metadata": {},
   "outputs": [
    {
     "data": {
      "text/plain": [
       "True"
      ]
     },
     "execution_count": 12,
     "metadata": {},
     "output_type": "execute_result"
    }
   ],
   "source": [
    "a = {1, 2, 3, 4, 5}\n",
    "b = {6, 7, 8, 9}\n",
    "c = {1, 0}\n",
    "\n",
    "a.isdisjoint(b)"
   ]
  },
  {
   "cell_type": "code",
   "execution_count": 13,
   "id": "dec8116f",
   "metadata": {},
   "outputs": [
    {
     "data": {
      "text/plain": [
       "False"
      ]
     },
     "execution_count": 13,
     "metadata": {},
     "output_type": "execute_result"
    }
   ],
   "source": [
    "a.isdisjoint(c)"
   ]
  },
  {
   "cell_type": "markdown",
   "id": "2df3c7bf",
   "metadata": {},
   "source": [
    "### {}.add\n",
    "\n",
    "- Adiciona um elemento ao final, se ele já não existir."
   ]
  },
  {
   "cell_type": "code",
   "execution_count": 14,
   "id": "6c2d308a",
   "metadata": {},
   "outputs": [
    {
     "data": {
      "text/plain": [
       "{1, 23, 25, 42}"
      ]
     },
     "execution_count": 14,
     "metadata": {},
     "output_type": "execute_result"
    }
   ],
   "source": [
    "sorteio = {1, 23}\n",
    "\n",
    "sorteio.add(25)\n",
    "sorteio.add(42)\n",
    "\n",
    "sorteio"
   ]
  },
  {
   "cell_type": "code",
   "execution_count": 16,
   "id": "cfc03dd0",
   "metadata": {},
   "outputs": [
    {
     "data": {
      "text/plain": [
       "{1, 23, 25, 42}"
      ]
     },
     "execution_count": 16,
     "metadata": {},
     "output_type": "execute_result"
    }
   ],
   "source": [
    "sorteio.add(25) # Número já existe\n",
    "\n",
    "sorteio"
   ]
  },
  {
   "cell_type": "markdown",
   "id": "a4bf4839",
   "metadata": {},
   "source": [
    "### {}.discard\n",
    "\n",
    "- Descarta um valor\n",
    "- Se o valor não existir, ele executa sem erro."
   ]
  },
  {
   "cell_type": "code",
   "execution_count": 17,
   "id": "08391da3",
   "metadata": {},
   "outputs": [
    {
     "data": {
      "text/plain": [
       "{0, 1, 2, 3, 4, 5, 6, 7, 8, 9}"
      ]
     },
     "execution_count": 17,
     "metadata": {},
     "output_type": "execute_result"
    }
   ],
   "source": [
    "numeros = {1, 2, 3, 1, 2, 4, 5, 5, 6, 7, 8, 9, 0}\n",
    "\n",
    "numeros"
   ]
  },
  {
   "cell_type": "code",
   "execution_count": 19,
   "id": "79b60fd7",
   "metadata": {},
   "outputs": [
    {
     "data": {
      "text/plain": [
       "{0, 2, 3, 4, 5, 6, 7, 8, 9}"
      ]
     },
     "execution_count": 19,
     "metadata": {},
     "output_type": "execute_result"
    }
   ],
   "source": [
    "numeros.discard(1)\n",
    "\n",
    "numeros"
   ]
  },
  {
   "cell_type": "code",
   "execution_count": 20,
   "id": "3144595b",
   "metadata": {},
   "outputs": [
    {
     "data": {
      "text/plain": [
       "{0, 2, 3, 4, 5, 6, 7, 8, 9}"
      ]
     },
     "execution_count": 20,
     "metadata": {},
     "output_type": "execute_result"
    }
   ],
   "source": [
    "numeros.discard(45)\n",
    "\n",
    "numeros"
   ]
  },
  {
   "cell_type": "markdown",
   "id": "e1b37382",
   "metadata": {},
   "source": [
    "- `.pop`, `.clear`, `copy`, `remove` e `len` funcionam o mesmo que nas Listas."
   ]
  }
 ],
 "metadata": {
  "kernelspec": {
   "display_name": "Python 3",
   "language": "python",
   "name": "python3"
  },
  "language_info": {
   "codemirror_mode": {
    "name": "ipython",
    "version": 3
   },
   "file_extension": ".py",
   "mimetype": "text/x-python",
   "name": "python",
   "nbconvert_exporter": "python",
   "pygments_lexer": "ipython3",
   "version": "3.13.5"
  }
 },
 "nbformat": 4,
 "nbformat_minor": 5
}
