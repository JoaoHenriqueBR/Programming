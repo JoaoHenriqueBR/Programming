{
 "cells": [
  {
   "cell_type": "code",
   "execution_count": 3,
   "id": "c65c21d9",
   "metadata": {},
   "outputs": [],
   "source": [
    "nome = 'João Henrique Alves Ferreira'"
   ]
  },
  {
   "cell_type": "code",
   "execution_count": 4,
   "id": "9b184e1f",
   "metadata": {},
   "outputs": [
    {
     "data": {
      "text/plain": [
       "'J'"
      ]
     },
     "execution_count": 4,
     "metadata": {},
     "output_type": "execute_result"
    }
   ],
   "source": [
    "nome[0]"
   ]
  },
  {
   "cell_type": "code",
   "execution_count": 9,
   "id": "12851060",
   "metadata": {},
   "outputs": [
    {
     "data": {
      "text/plain": [
       "'João'"
      ]
     },
     "execution_count": 9,
     "metadata": {},
     "output_type": "execute_result"
    }
   ],
   "source": [
    "nome[:4]"
   ]
  },
  {
   "cell_type": "code",
   "execution_count": 12,
   "id": "6cdb6e16",
   "metadata": {},
   "outputs": [
    {
     "data": {
      "text/plain": [
       "'Alves Ferreira'"
      ]
     },
     "execution_count": 12,
     "metadata": {},
     "output_type": "execute_result"
    }
   ],
   "source": [
    "nome[14:]"
   ]
  },
  {
   "cell_type": "code",
   "execution_count": 14,
   "id": "10cd3850",
   "metadata": {},
   "outputs": [
    {
     "data": {
      "text/plain": [
       "'Alves'"
      ]
     },
     "execution_count": 14,
     "metadata": {},
     "output_type": "execute_result"
    }
   ],
   "source": [
    "nome[14:19]"
   ]
  },
  {
   "cell_type": "code",
   "execution_count": 15,
   "id": "e47abe74",
   "metadata": {},
   "outputs": [
    {
     "data": {
      "text/plain": [
       "'Avs'"
      ]
     },
     "execution_count": 15,
     "metadata": {},
     "output_type": "execute_result"
    }
   ],
   "source": [
    "nome[14:19:2]"
   ]
  },
  {
   "cell_type": "code",
   "execution_count": 16,
   "id": "e57d843e",
   "metadata": {},
   "outputs": [
    {
     "data": {
      "text/plain": [
       "'João Henrique Alves Ferreira'"
      ]
     },
     "execution_count": 16,
     "metadata": {},
     "output_type": "execute_result"
    }
   ],
   "source": [
    "nome[:]"
   ]
  },
  {
   "cell_type": "code",
   "execution_count": 17,
   "id": "c0eacf75",
   "metadata": {},
   "outputs": [
    {
     "data": {
      "text/plain": [
       "'arierreF sevlA euqirneH oãoJ'"
      ]
     },
     "execution_count": 17,
     "metadata": {},
     "output_type": "execute_result"
    }
   ],
   "source": [
    "nome[::-1]"
   ]
  }
 ],
 "metadata": {
  "kernelspec": {
   "display_name": "Python 3",
   "language": "python",
   "name": "python3"
  },
  "language_info": {
   "codemirror_mode": {
    "name": "ipython",
    "version": 3
   },
   "file_extension": ".py",
   "mimetype": "text/x-python",
   "name": "python",
   "nbconvert_exporter": "python",
   "pygments_lexer": "ipython3",
   "version": "3.13.5"
  }
 },
 "nbformat": 4,
 "nbformat_minor": 5
}
