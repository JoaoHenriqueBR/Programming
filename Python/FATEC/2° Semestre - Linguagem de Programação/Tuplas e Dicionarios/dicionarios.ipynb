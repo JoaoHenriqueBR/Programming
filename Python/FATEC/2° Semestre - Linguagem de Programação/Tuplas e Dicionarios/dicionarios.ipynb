{
 "cells": [
  {
   "cell_type": "markdown",
   "metadata": {},
   "source": [
    "1. Escreva um programa que crie um dicionário com as chaves \"nome\" e \"idade\" e os valores \"João\" e 20. "
   ]
  },
  {
   "cell_type": "code",
   "execution_count": 3,
   "metadata": {},
   "outputs": [
    {
     "name": "stdout",
     "output_type": "stream",
     "text": [
      "{'nome': 'João', 'idade': 20}\n"
     ]
    }
   ],
   "source": [
    "dicionario = {\n",
    "    \"nome\":\"João\",\n",
    "    \"idade\":20,\n",
    "}\n",
    "\n",
    "print(dicionario)"
   ]
  },
  {
   "cell_type": "markdown",
   "metadata": {},
   "source": [
    "2. Escreva um programa que imprima o valor da chave \"nome\" do dicionário criado no exercício anterior. \n"
   ]
  },
  {
   "cell_type": "code",
   "execution_count": 4,
   "metadata": {},
   "outputs": [
    {
     "name": "stdout",
     "output_type": "stream",
     "text": [
      "João\n"
     ]
    }
   ],
   "source": [
    "print(dicionario[\"nome\"])"
   ]
  },
  {
   "cell_type": "markdown",
   "metadata": {},
   "source": [
    "3. Escreva um programa que adicione a chave \"cidade\" com o valor \"São Paulo\" ao dicionário criado no exercício anterior. "
   ]
  },
  {
   "cell_type": "code",
   "execution_count": 5,
   "metadata": {},
   "outputs": [
    {
     "name": "stdout",
     "output_type": "stream",
     "text": [
      "{'nome': 'João', 'idade': 20, 'cidade': 'São Paulo'}\n"
     ]
    }
   ],
   "source": [
    "dicionario[\"cidade\"] = \"São Paulo\"\n",
    "print(dicionario)"
   ]
  },
  {
   "cell_type": "markdown",
   "metadata": {},
   "source": [
    "4. Escreva um programa que verifique se uma chave está presente no dicionário criado no exercício anterior. "
   ]
  },
  {
   "cell_type": "code",
   "execution_count": 7,
   "metadata": {},
   "outputs": [
    {
     "name": "stdout",
     "output_type": "stream",
     "text": [
      "A chave pão não está presente no dicionário!\n"
     ]
    }
   ],
   "source": [
    "chave = input(\"Informe a chave: \")\n",
    "\n",
    "if chave in dicionario:\n",
    "    print('Está presente no dicionário!')\n",
    "else:\n",
    "    print(f'A chave {chave} não está presente no dicionário!')"
   ]
  },
  {
   "cell_type": "markdown",
   "metadata": {},
   "source": [
    "5. Escreva um programa que remova a chave \"idade\" do dicionário criado no exercício anterior. "
   ]
  },
  {
   "cell_type": "code",
   "execution_count": 8,
   "metadata": {},
   "outputs": [
    {
     "name": "stdout",
     "output_type": "stream",
     "text": [
      "{'nome': 'João', 'cidade': 'São Paulo'}\n"
     ]
    }
   ],
   "source": [
    "del dicionario[\"idade\"]\n",
    "print(dicionario)"
   ]
  },
  {
   "cell_type": "markdown",
   "metadata": {},
   "source": [
    "6. Escreva um programa que imprima todos os elementos do dicionário criado no exercício anterior. "
   ]
  },
  {
   "cell_type": "code",
   "execution_count": 11,
   "metadata": {},
   "outputs": [
    {
     "name": "stdout",
     "output_type": "stream",
     "text": [
      "João\n",
      "São Paulo\n"
     ]
    }
   ],
   "source": [
    "for i in dicionario:\n",
    "    print(dicionario[i])"
   ]
  },
  {
   "cell_type": "markdown",
   "metadata": {},
   "source": [
    "7. Escreva um programa que crie um dicionário vazio. \n"
   ]
  },
  {
   "cell_type": "code",
   "execution_count": 12,
   "metadata": {},
   "outputs": [
    {
     "name": "stdout",
     "output_type": "stream",
     "text": [
      "{}\n"
     ]
    }
   ],
   "source": [
    "dicionario = {}\n",
    "print(dicionario)"
   ]
  },
  {
   "cell_type": "markdown",
   "metadata": {},
   "source": [
    "8. Escreva um programa que crie um dicionário com uma única chave e um único valor. "
   ]
  },
  {
   "cell_type": "code",
   "execution_count": 13,
   "metadata": {},
   "outputs": [
    {
     "name": "stdout",
     "output_type": "stream",
     "text": [
      "{'Pão': 'Manteiga'}\n"
     ]
    }
   ],
   "source": [
    "chave = input('Informe a chave: ')\n",
    "elemento = input('Elemento da chave: ')\n",
    "\n",
    "dicionario[chave] = elemento\n",
    "print(dicionario)"
   ]
  },
  {
   "cell_type": "markdown",
   "metadata": {},
   "source": [
    "9. Escreva um programa que crie um dicionário com chaves de strings e valores de números. \n"
   ]
  },
  {
   "cell_type": "code",
   "execution_count": 16,
   "metadata": {},
   "outputs": [
    {
     "name": "stdout",
     "output_type": "stream",
     "text": [
      "{'idade': 18}\n"
     ]
    }
   ],
   "source": [
    "chave = input('Informe a chave: ')\n",
    "elemento = int(input('Elemento (Nº) da chave: '))\n",
    "\n",
    "dicionario = {}\n",
    "dicionario[chave] = elemento\n",
    "print(dicionario)"
   ]
  },
  {
   "cell_type": "markdown",
   "metadata": {},
   "source": [
    "10. Escreva um programa que crie um dicionário com chaves de números e valores de strings. "
   ]
  },
  {
   "cell_type": "code",
   "execution_count": 17,
   "metadata": {},
   "outputs": [
    {
     "name": "stdout",
     "output_type": "stream",
     "text": [
      "{1: 'Pão'}\n"
     ]
    }
   ],
   "source": [
    "chave = int(input('Informe a chave (Nº): '))\n",
    "elemento = (input('Elemento da chave: '))\n",
    "\n",
    "dicionario = {}\n",
    "dicionario[chave] = elemento\n",
    "print(dicionario)"
   ]
  }
 ],
 "metadata": {
  "kernelspec": {
   "display_name": "Python 3",
   "language": "python",
   "name": "python3"
  },
  "language_info": {
   "codemirror_mode": {
    "name": "ipython",
    "version": 3
   },
   "file_extension": ".py",
   "mimetype": "text/x-python",
   "name": "python",
   "nbconvert_exporter": "python",
   "pygments_lexer": "ipython3",
   "version": "3.11.6"
  }
 },
 "nbformat": 4,
 "nbformat_minor": 2
}
